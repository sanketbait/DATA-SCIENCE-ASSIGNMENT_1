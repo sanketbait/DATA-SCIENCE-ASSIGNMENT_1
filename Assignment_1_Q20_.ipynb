{
  "nbformat": 4,
  "nbformat_minor": 0,
  "metadata": {
    "colab": {
      "name": "Assignment-1-Q20 .ipynb",
      "provenance": []
    },
    "kernelspec": {
      "name": "python3",
      "display_name": "Python 3"
    },
    "language_info": {
      "name": "python"
    }
  },
  "cells": [
    {
      "cell_type": "code",
      "execution_count": null,
      "metadata": {
        "id": "PCQtzxi-KUfZ"
      },
      "outputs": [],
      "source": [
        "import pandas as pd\n",
        "import numpy as np\n",
        "import matplotlib.pyplot as plt\n",
        "import seaborn as sns\n",
        "from scipy import stats\n",
        "from scipy.stats import norm"
      ]
    },
    {
      "cell_type": "code",
      "source": [
        "cars=pd.read_csv('Database/Cars.csv')\n",
        "cars"
      ],
      "metadata": {
        "id": "YZbgLHyfKeBw"
      },
      "execution_count": null,
      "outputs": []
    },
    {
      "cell_type": "code",
      "source": [
        "sns.boxplot(cars.MPG)"
      ],
      "metadata": {
        "id": "l4nwfR_cKgE0"
      },
      "execution_count": null,
      "outputs": []
    },
    {
      "cell_type": "code",
      "source": [
        "# P(MPG>38)\n",
        "1-stats.norm.cdf(38,cars.MPG.mean(),cars.MPG.std())"
      ],
      "metadata": {
        "id": "H5vBCiLvKiv6"
      },
      "execution_count": null,
      "outputs": []
    },
    {
      "cell_type": "code",
      "source": [
        "# P(MPG<40)\n",
        "stats.norm.cdf(40,cars.MPG.mean(),cars.MPG.std())"
      ],
      "metadata": {
        "id": "gL7I5WmkKpiL"
      },
      "execution_count": null,
      "outputs": []
    },
    {
      "cell_type": "code",
      "source": [
        "# P (20<MPG<50)\n",
        "stats.norm.cdf(0.50,cars.MPG.mean(),cars.MPG.std())-stats.norm.cdf(0.20,cars.MPG.mean(),cars.MPG.std())  "
      ],
      "metadata": {
        "id": "UZkHQ-5eKro0"
      },
      "execution_count": null,
      "outputs": []
    }
  ]
}
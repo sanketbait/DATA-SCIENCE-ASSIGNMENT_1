{
  "nbformat": 4,
  "nbformat_minor": 0,
  "metadata": {
    "colab": {
      "name": "Assignment-1-Q12.ipynb",
      "provenance": []
    },
    "kernelspec": {
      "name": "python3",
      "display_name": "Python 3"
    },
    "language_info": {
      "name": "python"
    }
  },
  "cells": [
    {
      "cell_type": "code",
      "execution_count": 1,
      "metadata": {
        "id": "h8EI86vPJez3"
      },
      "outputs": [],
      "source": [
        "import numpy as np\n",
        "import pandas as pd\n",
        "import matplotlib.pyplot as plt\n",
        "import seaborn as sns\n",
        "%matplotlib inline"
      ]
    },
    {
      "cell_type": "code",
      "source": [
        "x=pd.Series([34,36,36,38,38,39,39,40,40,41,41,41,41,42,42,45,49,56])"
      ],
      "metadata": {
        "id": "iblr-LybJqix"
      },
      "execution_count": null,
      "outputs": []
    },
    {
      "cell_type": "code",
      "source": [
        "# Mean\n",
        "x.mean()"
      ],
      "metadata": {
        "id": "LgnkbFYwJt9o"
      },
      "execution_count": null,
      "outputs": []
    },
    {
      "cell_type": "code",
      "source": [
        "# Median\n",
        "x.median()"
      ],
      "metadata": {
        "id": "vnVyetXiJwI7"
      },
      "execution_count": null,
      "outputs": []
    },
    {
      "cell_type": "code",
      "source": [
        "# Variance\n",
        "x.var()"
      ],
      "metadata": {
        "id": "kuF6dpjrJyws"
      },
      "execution_count": null,
      "outputs": []
    },
    {
      "cell_type": "code",
      "source": [
        "# Standard Deviation\n",
        "x.std()"
      ],
      "metadata": {
        "id": "kfbzto6nJ0d0"
      },
      "execution_count": null,
      "outputs": []
    },
    {
      "cell_type": "code",
      "source": [
        "plt.boxplot(x)"
      ],
      "metadata": {
        "id": "BCd4leBPJ2Nu"
      },
      "execution_count": null,
      "outputs": []
    }
  ]
}
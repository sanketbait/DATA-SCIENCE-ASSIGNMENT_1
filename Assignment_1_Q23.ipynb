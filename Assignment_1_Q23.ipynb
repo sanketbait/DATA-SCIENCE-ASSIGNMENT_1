{
  "nbformat": 4,
  "nbformat_minor": 0,
  "metadata": {
    "colab": {
      "name": "Assignment-1-Q23.ipynb",
      "provenance": []
    },
    "kernelspec": {
      "name": "python3",
      "display_name": "Python 3"
    },
    "language_info": {
      "name": "python"
    }
  },
  "cells": [
    {
      "cell_type": "code",
      "execution_count": null,
      "metadata": {
        "id": "kfL2pWOSN9Eh"
      },
      "outputs": [],
      "source": [
        "from scipy import stats\n",
        "from scipy.stats import norm"
      ]
    },
    {
      "cell_type": "code",
      "source": [
        "# t scores of 95% confidence interval for sample size of 25\n",
        "stats.t.ppf(0.975,24)  # df = n-1 = 24"
      ],
      "metadata": {
        "id": "grS3wHmLOENy"
      },
      "execution_count": null,
      "outputs": []
    },
    {
      "cell_type": "code",
      "source": [
        "# t scores of 96% confidence interval for sample size of 25\n",
        "stats.t.ppf(0.98,24)"
      ],
      "metadata": {
        "id": "zygZla0xOGly"
      },
      "execution_count": null,
      "outputs": []
    },
    {
      "cell_type": "code",
      "source": [
        "# t scores of 99% confidence interval for sample size of 25\n",
        "stats.t.ppf(0.995,24)"
      ],
      "metadata": {
        "id": "BtPC9CGjOPng"
      },
      "execution_count": null,
      "outputs": []
    }
  ]
}
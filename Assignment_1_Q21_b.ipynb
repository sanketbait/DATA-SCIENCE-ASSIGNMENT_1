{
  "nbformat": 4,
  "nbformat_minor": 0,
  "metadata": {
    "colab": {
      "name": "Assignment-1-Q21_b.ipynb",
      "provenance": []
    },
    "kernelspec": {
      "name": "python3",
      "display_name": "Python 3"
    },
    "language_info": {
      "name": "python"
    }
  },
  "cells": [
    {
      "cell_type": "code",
      "execution_count": null,
      "metadata": {
        "id": "z04MptAZLW_g"
      },
      "outputs": [],
      "source": [
        "import pandas as pd\n",
        "import matplotlib.pyplot as plt\n",
        "import seaborn as sns\n",
        "%matplotlib inline"
      ]
    },
    {
      "cell_type": "code",
      "source": [
        "wcat=pd.read_csv('Database/wc-at.csv')\n",
        "wcat"
      ],
      "metadata": {
        "id": "bq87Ml-cLer_"
      },
      "execution_count": null,
      "outputs": []
    },
    {
      "cell_type": "code",
      "source": [
        "# plotting distribution for Waist Circumference (Waist) \n",
        "sns.distplot(wcat.Waist)\n",
        "plt.ylabel('density');"
      ],
      "metadata": {
        "id": "lowCxFaJLhKU"
      },
      "execution_count": null,
      "outputs": []
    },
    {
      "cell_type": "code",
      "source": [
        "# plotting distribution for Adipose Tissue (AT) \n",
        "sns.distplot(wcat.AT)\n",
        "plt.ylabel('density');"
      ],
      "metadata": {
        "id": "C1IjAZqtLk-3"
      },
      "execution_count": null,
      "outputs": []
    },
    {
      "cell_type": "code",
      "source": [
        "# WC\n",
        "wcat.Waist.mean() , wcat.Waist.median()"
      ],
      "metadata": {
        "id": "_o2CDq2MLoPN"
      },
      "execution_count": null,
      "outputs": []
    },
    {
      "cell_type": "code",
      "source": [
        "# AT\n",
        "wcat.AT.mean() , wcat.AT.median()"
      ],
      "metadata": {
        "id": "3JhdVw8bLqJy"
      },
      "execution_count": null,
      "outputs": []
    }
  ]
}
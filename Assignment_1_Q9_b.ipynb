{
  "nbformat": 4,
  "nbformat_minor": 0,
  "metadata": {
    "colab": {
      "name": "Assignment-1-Q9_b.ipynb",
      "provenance": []
    },
    "kernelspec": {
      "name": "python3",
      "display_name": "Python 3"
    },
    "language_info": {
      "name": "python"
    }
  },
  "cells": [
    {
      "cell_type": "code",
      "execution_count": null,
      "metadata": {
        "id": "4BQeWQQAHpmA"
      },
      "outputs": [],
      "source": [
        "import numpy as np\n",
        "import pandas as pd\n",
        "import matplotlib.pyplot as plt\n",
        "import seaborn as sns\n",
        "%matplotlib inline"
      ]
    },
    {
      "cell_type": "code",
      "source": [
        "data=pd.read_csv('Database/Q9_b.csv')"
      ],
      "metadata": {
        "id": "VlOAieLnH0Ln"
      },
      "execution_count": null,
      "outputs": []
    },
    {
      "cell_type": "code",
      "source": [
        "data2=data.iloc[:,1:]\n",
        "data2"
      ],
      "metadata": {
        "id": "z6cZL6_8H3eZ"
      },
      "execution_count": null,
      "outputs": []
    },
    {
      "cell_type": "code",
      "source": [
        "# Skewness\n",
        "data2.skew()"
      ],
      "metadata": {
        "id": "5iIT_nHZH7lA"
      },
      "execution_count": null,
      "outputs": []
    },
    {
      "cell_type": "code",
      "source": [
        "# Kurtosis\n",
        "data2.kurt()"
      ],
      "metadata": {
        "id": "5QYUw4ikH_Oh"
      },
      "execution_count": null,
      "outputs": []
    }
  ]
}